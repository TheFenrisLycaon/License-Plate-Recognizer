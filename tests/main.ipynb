{
 "cells": [
  {
   "cell_type": "code",
   "execution_count": 6,
   "metadata": {},
   "outputs": [],
   "source": [
    "import random\n",
    "import time\n",
    "from datetime import datetime\n",
    "from difflib import SequenceMatcher\n",
    "import cv2\n",
    "import easyocr\n",
    "from private.secrets import KEY, LOCAL\n",
    "import imutils\n",
    "import numpy as np\n",
    "import pandas as pd\n",
    "import requests\n",
    "from matplotlib import pyplot as plt"
   ]
  },
  {
   "cell_type": "code",
   "execution_count": 14,
   "metadata": {},
   "outputs": [
    {
     "name": "stdout",
     "output_type": "stream",
     "text": [
      "\n",
      "(base) d:\\A\\Deploy>C:\\\"Program Files (x86)\"\\Intel\\openvino_2021.4.752\\bin\\setupvars.bat\n",
      "Python 3.9.7\n",
      "[setupvars.bat] OpenVINO environment initialized\n"
     ]
    },
    {
     "ename": "error",
     "evalue": "OpenCV(4.5.5) D:\\a\\opencv-python\\opencv-python\\opencv\\modules\\dnn\\src\\dnn.cpp:4319: error: (-2:Unspecified error) Build OpenCV with Inference Engine to enable loading models from Model Optimizer. in function 'cv::dnn::dnn4_v20211220::Net::readFromModelOptimizer'\n",
     "output_type": "error",
     "traceback": [
      "\u001b[1;31m---------------------------------------------------------------------------\u001b[0m",
      "\u001b[1;31merror\u001b[0m                                     Traceback (most recent call last)",
      "\u001b[1;32m~\\AppData\\Local\\Temp/ipykernel_11224/2560849734.py\u001b[0m in \u001b[0;36m<module>\u001b[1;34m\u001b[0m\n\u001b[0;32m      2\u001b[0m \u001b[1;33m\u001b[0m\u001b[0m\n\u001b[0;32m      3\u001b[0m \u001b[1;31m# Load the model\u001b[0m\u001b[1;33m\u001b[0m\u001b[1;33m\u001b[0m\u001b[0m\n\u001b[1;32m----> 4\u001b[1;33m \u001b[0mnet\u001b[0m \u001b[1;33m=\u001b[0m \u001b[0mcv2\u001b[0m\u001b[1;33m.\u001b[0m\u001b[0mdnn\u001b[0m\u001b[1;33m.\u001b[0m\u001b[0mreadNet\u001b[0m\u001b[1;33m(\u001b[0m\u001b[1;34m'./Data/plates-ssd.xml'\u001b[0m\u001b[1;33m,\u001b[0m \u001b[1;34m'./Data/plates-ssd.bin'\u001b[0m\u001b[1;33m)\u001b[0m\u001b[1;33m\u001b[0m\u001b[1;33m\u001b[0m\u001b[0m\n\u001b[0m\u001b[0;32m      5\u001b[0m \u001b[1;33m\u001b[0m\u001b[0m\n\u001b[0;32m      6\u001b[0m \u001b[1;31m# Specify target device\u001b[0m\u001b[1;33m\u001b[0m\u001b[1;33m\u001b[0m\u001b[0m\n",
      "\u001b[1;31merror\u001b[0m: OpenCV(4.5.5) D:\\a\\opencv-python\\opencv-python\\opencv\\modules\\dnn\\src\\dnn.cpp:4319: error: (-2:Unspecified error) Build OpenCV with Inference Engine to enable loading models from Model Optimizer. in function 'cv::dnn::dnn4_v20211220::Net::readFromModelOptimizer'\n"
     ]
    }
   ],
   "source": [
    "!\"./initial.bat\"\n",
    "\n",
    "# Load the model\n",
    "net = cv2.dnn.readNet(\"./Data/plates-ssd.xml\", \"./Data/plates-ssd.bin\")\n",
    "\n",
    "# Specify target device\n",
    "net.setPreferableTarget(cv2.dnn.DNN_TARGET_CPU)\n",
    "\n",
    "# Read an image"
   ]
  },
  {
   "cell_type": "code",
   "execution_count": 2,
   "metadata": {},
   "outputs": [],
   "source": [
    "def sms(number: list, link: str):\n",
    "    url = \"https://www.fast2sms.com/dev/bulkV2\"\n",
    "\n",
    "    payload = f\"sender_id=FSTSMS&message={link}&language=english&route=q&numbers={','.join(number)}\"\n",
    "\n",
    "    headers = {\n",
    "        \"authorization\": KEY,\n",
    "        \"Content-Type\": \"application/x-www-form-urlencoded\",\n",
    "        \"Cache-Control\": \"no-cache\",\n",
    "    }\n",
    "\n",
    "    response = requests.request(\"POST\", url, data=payload, headers=headers)\n",
    "\n",
    "    return response.text"
   ]
  },
  {
   "cell_type": "code",
   "execution_count": 3,
   "metadata": {},
   "outputs": [],
   "source": [
    "def similar(a, b):\n",
    "    return SequenceMatcher(None, a, b).ratio()"
   ]
  },
  {
   "cell_type": "code",
   "execution_count": 4,
   "metadata": {},
   "outputs": [
    {
     "ename": "NameError",
     "evalue": "name 'cv2' is not defined",
     "output_type": "error",
     "traceback": [
      "\u001b[1;31m---------------------------------------------------------------------------\u001b[0m",
      "\u001b[1;31mNameError\u001b[0m                                 Traceback (most recent call last)",
      "\u001b[1;32m~\\AppData\\Local\\Temp/ipykernel_11224/299041541.py\u001b[0m in \u001b[0;36m<module>\u001b[1;34m\u001b[0m\n\u001b[1;32m----> 1\u001b[1;33m video = cv2.VideoCapture(\n\u001b[0m\u001b[0;32m      2\u001b[0m     'Data/Deploy01.mp4')\n\u001b[0;32m      3\u001b[0m \u001b[1;33m\u001b[0m\u001b[0m\n\u001b[0;32m      4\u001b[0m \u001b[0mdatabase\u001b[0m \u001b[1;33m=\u001b[0m \u001b[0mpd\u001b[0m\u001b[1;33m.\u001b[0m\u001b[0mread_csv\u001b[0m\u001b[1;33m(\u001b[0m\u001b[1;34m'data.csv'\u001b[0m\u001b[1;33m)\u001b[0m\u001b[1;33m\u001b[0m\u001b[1;33m\u001b[0m\u001b[0m\n\u001b[0;32m      5\u001b[0m \u001b[0mresults\u001b[0m \u001b[1;33m=\u001b[0m \u001b[0mpd\u001b[0m\u001b[1;33m.\u001b[0m\u001b[0mread_csv\u001b[0m\u001b[1;33m(\u001b[0m\u001b[1;34m'results.csv'\u001b[0m\u001b[1;33m)\u001b[0m\u001b[1;33m\u001b[0m\u001b[1;33m\u001b[0m\u001b[0m\n",
      "\u001b[1;31mNameError\u001b[0m: name 'cv2' is not defined"
     ]
    }
   ],
   "source": [
    "video = cv2.VideoCapture(\"Data/Deploy01.mp4\")\n",
    "\n",
    "database = pd.read_csv(\"data.csv\")\n",
    "results = pd.read_csv(\"results.csv\")\n",
    "history = \"\"\n",
    "nullCheck = 0\n",
    "firstFrame = None\n",
    "motion = False\n",
    "\n",
    "plates = pd.DataFrame(columns=[\"Time\", \"Plates\"])"
   ]
  },
  {
   "cell_type": "code",
   "execution_count": 5,
   "metadata": {},
   "outputs": [],
   "source": [
    "# sms(['9006818029', '7772966141', '9123415629'], 'testing multiple numbers')"
   ]
  },
  {
   "cell_type": "code",
   "execution_count": 13,
   "metadata": {},
   "outputs": [
    {
     "name": "stderr",
     "output_type": "stream",
     "text": [
      "CUDA not available - defaulting to CPU. Note: This module is much faster with a GPU.\n"
     ]
    },
    {
     "name": "stdout",
     "output_type": "stream",
     "text": [
      "True\n",
      "Hui\n",
      "Not Found !!!\n",
      "list index out of range\n",
      "False\n",
      "False\n"
     ]
    },
    {
     "ename": "KeyboardInterrupt",
     "evalue": "",
     "output_type": "error",
     "traceback": [
      "\u001b[1;31m---------------------------------------------------------------------------\u001b[0m",
      "\u001b[1;31mKeyboardInterrupt\u001b[0m                         Traceback (most recent call last)",
      "\u001b[1;32m~\\AppData\\Local\\Temp/ipykernel_17120/2666629006.py\u001b[0m in \u001b[0;36m<module>\u001b[1;34m\u001b[0m\n\u001b[0;32m     78\u001b[0m             \u001b[0mprint\u001b[0m\u001b[1;33m(\u001b[0m\u001b[0me\u001b[0m\u001b[1;33m)\u001b[0m\u001b[1;33m\u001b[0m\u001b[1;33m\u001b[0m\u001b[0m\n\u001b[0;32m     79\u001b[0m \u001b[1;33m\u001b[0m\u001b[0m\n\u001b[1;32m---> 80\u001b[1;33m     \u001b[0mtime\u001b[0m\u001b[1;33m.\u001b[0m\u001b[0msleep\u001b[0m\u001b[1;33m(\u001b[0m\u001b[1;36m10\u001b[0m\u001b[1;33m)\u001b[0m  \u001b[1;31m# TODO :: Change in production\u001b[0m\u001b[1;33m\u001b[0m\u001b[1;33m\u001b[0m\u001b[0m\n\u001b[0m\u001b[0;32m     81\u001b[0m     \u001b[0mk\u001b[0m \u001b[1;33m+=\u001b[0m \u001b[1;36m1\u001b[0m\u001b[1;33m\u001b[0m\u001b[1;33m\u001b[0m\u001b[0m\n",
      "\u001b[1;31mKeyboardInterrupt\u001b[0m: "
     ]
    }
   ],
   "source": [
    "k = 0\n",
    "while k != 20:  # TODO :: CHANGE IN PROD\n",
    "    if nullCheck >= 50:\n",
    "        break\n",
    "\n",
    "    ret, img = video.read()\n",
    "\n",
    "    cv2.imshow(\"og\", img)\n",
    "\n",
    "    gray = cv2.cvtColor(img, cv2.COLOR_BGR2GRAY)\n",
    "\n",
    "    if firstFrame is None:\n",
    "        firstFrame = gray\n",
    "        continue\n",
    "\n",
    "    delta = cv2.absdiff(firstFrame, gray)\n",
    "    thresh = cv2.threshold(delta, 25, 255, cv2.THRESH_BINARY)[1]\n",
    "    thresh = cv2.dilate(thresh, None, iterations=2)\n",
    "    cnts = cv2.findContours(thresh.copy(), cv2.RETR_EXTERNAL, cv2.CHAIN_APPROX_SIMPLE)\n",
    "    cnts = imutils.grab_contours(cnts)\n",
    "\n",
    "    for c in cnts:\n",
    "        # if the contour is too small, ignore it\n",
    "        if cv2.contourArea(c) < 500:\n",
    "            motion = False\n",
    "            continue\n",
    "        else:\n",
    "            motion = True\n",
    "\n",
    "    if motion:\n",
    "        bfilter = cv2.bilateralFilter(gray, 11, 17, 17)\n",
    "        edged = cv2.Canny(bfilter, 30, 200)\n",
    "\n",
    "        keypoints = cv2.findContours(\n",
    "            edged.copy(), cv2.RETR_TREE, cv2.CHAIN_APPROX_SIMPLE\n",
    "        )\n",
    "        contours = imutils.grab_contours(keypoints)\n",
    "        contours = sorted(contours, key=cv2.contourArea, reverse=True)[:10]\n",
    "\n",
    "        location = None\n",
    "        for contour in contours:\n",
    "            approx = cv2.approxPolyDP(contour, 10, True)\n",
    "            if len(approx) == 4:\n",
    "                location = approx\n",
    "                break\n",
    "\n",
    "        mask = np.zeros(gray.shape, np.uint8)\n",
    "        new_image = cv2.drawContours(mask, [location], 0, 255, -1)\n",
    "        new_image = cv2.bitwise_and(img, img, mask=mask)\n",
    "        new = cv2.cvtColor(new_image, cv2.COLOR_BGR2RGB)\n",
    "\n",
    "        (x, y) = np.where(mask == 255)\n",
    "        (x1, y1) = (np.min(x), np.min(y))\n",
    "        (x2, y2) = (np.max(x), np.max(y))\n",
    "        cropped_image = gray[x1 : x2 + 1, y1 : y2 + 1]\n",
    "\n",
    "        reader = easyocr.Reader([\"en\"])\n",
    "        result = reader.readtext(cropped_image)\n",
    "\n",
    "        try:\n",
    "            plate = result[0][1]\n",
    "            print(plate)\n",
    "            if plate in plate in database.Plate.to_string():\n",
    "                conInfo = database.iloc[\n",
    "                    np.where(database[\"Plate\"] == plate)\n",
    "                ].Contact.to_string(index=False)\n",
    "\n",
    "            if history != plate:\n",
    "                sms([conInfo], \"testing\")  # TODO :: Change in prod\n",
    "\n",
    "            nullCheck = 0\n",
    "            history = result[0][1]\n",
    "\n",
    "        except Exception as e:\n",
    "            print(\"Not Found !!!\")\n",
    "            nullCheck += 1\n",
    "            print(e)\n",
    "\n",
    "    time.sleep(10)  # TODO :: Change in production\n",
    "    k += 1"
   ]
  },
  {
   "cell_type": "code",
   "execution_count": null,
   "metadata": {},
   "outputs": [],
   "source": []
  },
  {
   "cell_type": "code",
   "execution_count": null,
   "metadata": {},
   "outputs": [],
   "source": []
  }
 ],
 "metadata": {
  "kernelspec": {
   "display_name": "Python 3 (ipykernel)",
   "language": "python",
   "name": "python3"
  },
  "language_info": {
   "codemirror_mode": {
    "name": "ipython",
    "version": 3
   },
   "file_extension": ".py",
   "mimetype": "text/x-python",
   "name": "python",
   "nbconvert_exporter": "python",
   "pygments_lexer": "ipython3",
   "version": "3.9.7"
  }
 },
 "nbformat": 4,
 "nbformat_minor": 2
}
